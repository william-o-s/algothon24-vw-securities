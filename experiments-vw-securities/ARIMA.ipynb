{
 "cells": [
  {
   "cell_type": "markdown",
   "metadata": {},
   "source": [
    "[pmdarima](https://alkaline-ml.com/pmdarima/usecases/stocks.html)"
   ]
  },
  {
   "cell_type": "code",
   "execution_count": 1,
   "metadata": {},
   "outputs": [],
   "source": [
    "import matplotlib.pyplot as plt\n",
    "import numpy as np\n",
    "import os\n",
    "import pandas as pd\n",
    "import pmdarima as pm\n",
    "from pmdarima.arima import ndiffs\n",
    "from pmdarima.metrics import smape\n",
    "from collections import defaultdict"
   ]
  },
  {
   "cell_type": "code",
   "execution_count": 2,
   "metadata": {},
   "outputs": [],
   "source": [
    "# Make plot directories\n",
    "for dirname in ['arima/']:\n",
    "    if not os.path.isdir(dirname):\n",
    "        os.makedirs(dirname)"
   ]
  },
  {
   "cell_type": "code",
   "execution_count": 17,
   "metadata": {},
   "outputs": [
    {
     "name": "stdout",
     "output_type": "stream",
     "text": [
      "(500, 50)\n",
      "(250, 50)\n"
     ]
    }
   ],
   "source": [
    "# Import price data\n",
    "df = pd.read_csv('prices.txt', engine='python', sep='   ', header=None)\n",
    "(nt, nInst) = df.shape\n",
    "\n",
    "df_train, df_test = df.iloc[:500], df.iloc[500:]\n",
    "print(df_train.shape)\n",
    "print(df_test.shape)"
   ]
  },
  {
   "cell_type": "code",
   "execution_count": 66,
   "metadata": {},
   "outputs": [
    {
     "name": "stdout",
     "output_type": "stream",
     "text": [
      "Performing stepwise search to minimize aic\n",
      " ARIMA(2,1,2)(0,0,0)[0] intercept   : AIC=-2846.542, Time=0.22 sec\n",
      " ARIMA(0,1,0)(0,0,0)[0] intercept   : AIC=-2805.526, Time=0.07 sec\n",
      " ARIMA(1,1,0)(0,0,0)[0] intercept   : AIC=-2852.508, Time=0.06 sec\n",
      " ARIMA(0,1,1)(0,0,0)[0] intercept   : AIC=-2847.567, Time=0.09 sec\n",
      " ARIMA(0,1,0)(0,0,0)[0]             : AIC=-2773.538, Time=0.02 sec\n",
      " ARIMA(2,1,0)(0,0,0)[0] intercept   : AIC=-2850.556, Time=0.07 sec\n",
      " ARIMA(1,1,1)(0,0,0)[0] intercept   : AIC=-2850.528, Time=0.05 sec\n",
      " ARIMA(2,1,1)(0,0,0)[0] intercept   : AIC=-2848.567, Time=0.25 sec\n",
      " ARIMA(1,1,0)(0,0,0)[0]             : AIC=-2837.783, Time=0.04 sec\n",
      "\n",
      "Best model:  ARIMA(1,1,0)(0,0,0)[0] intercept\n",
      "Total fit time: 0.869 seconds\n",
      "forecast=-0.040903453140511914 | actual=-0.10000000000000142\n",
      "forecast=-0.03319842070084533 | actual=-0.019999999999999574\n",
      "forecast=-0.03727812789778184 | actual=-0.07000000000000028\n"
     ]
    }
   ],
   "source": [
    "model_cache = defaultdict(None)\n",
    "\n",
    "def arima_train(train_prices: pd.Series, stock_name: str) -> None:\n",
    "    global model_cache\n",
    "    kpss_diffs = ndiffs(train_prices, alpha=0.05, test='kpss', max_d=20)\n",
    "    adf_diffs = ndiffs(train_prices, alpha=0.05, test='adf', max_d=20)\n",
    "    n_diffs = max(adf_diffs, kpss_diffs)\n",
    "\n",
    "    model = pm.auto_arima(train_prices, d=n_diffs, seasonal=True, stepwise=True,\n",
    "                        suppress_warnings=True, error_action='ignore',\n",
    "                        max_p=10, max_q=10,\n",
    "                        max_order=None, trace=True)\n",
    "    model_cache[stock_name] = model\n",
    "\n",
    "def arima_update(observations: pd.Series, stock_name: str) -> None:\n",
    "    model_cache[stock_name].update(observations)\n",
    "\n",
    "def arima_forecast(stock_name, window=10) -> None | tuple[np.array, np.array]:\n",
    "    return model_cache[stock_name].predict(n_periods=window).tolist()[-1]\n",
    "\n",
    "stock = 27\n",
    "stock_name = f\"stock{stock}\"\n",
    "window = 10\n",
    "\n",
    "arima_train(df_train[stock], stock_name)\n",
    "\n",
    "latest = df_train[stock].iloc[-1]\n",
    "forecast_price = arima_forecast(stock_name, window=10)\n",
    "actual_price = df_test[stock].iloc[9]\n",
    "print(f\"forecast={forecast_price - latest} | actual={actual_price - latest}\")\n",
    "\n",
    "latest = actual_price\n",
    "arima_update(df_test[stock].iloc[:10], stock_name)\n",
    "forecast_price = arima_forecast(stock_name, window=10)\n",
    "actual_price = df_test[stock].iloc[19]\n",
    "print(f\"forecast={forecast_price - latest} | actual={actual_price - latest}\")\n",
    "\n",
    "latest = actual_price\n",
    "arima_update(df_test[stock].iloc[10:20], stock_name)\n",
    "forecast_price = arima_forecast(stock_name, window=10)\n",
    "actual_price = df_test[stock].iloc[29]\n",
    "print(f\"forecast={forecast_price - latest} | actual={actual_price - latest}\")"
   ]
  },
  {
   "cell_type": "code",
   "execution_count": 18,
   "metadata": {},
   "outputs": [],
   "source": [
    "def get_all_smape_error():\n",
    "    smapes = np.zeros(50)\n",
    "    for i in range(50):\n",
    "        window_actual = prcSoFar.iloc[500:750]\n",
    "        window_forecast = model_cache[i]\n",
    "        smapes[i] = smape(window_actual, window_forecast)\n",
    "\n",
    "    return smapes\n",
    "\n",
    "def plot_arima(stock_name, forecasts, actuals):\n",
    "    difference = np.subtract(forecasts, actuals)\n",
    "\n",
    "    fig, ax1 = plt.subplots(figsize=(10,5))\n",
    "    ax1.plot(forecasts, color='red', label='Forecast')\n",
    "    ax1.plot(actuals, color='blue', label='Actual')\n",
    "    ax1.set_ylabel('Price')\n",
    "\n",
    "    ax2 = ax1.twinx()\n",
    "    ax2.plot(difference, color='black', label='Difference', linestyle='--', alpha=0.2)\n",
    "    ax2.set_yticks(np.arange(-1.0, 1.5, 0.5))\n",
    "\n",
    "    plt.title(stock_name)\n",
    "    fig.legend(fancybox=True, framealpha=0.5)\n",
    "    fig.tight_layout()\n",
    "    plt.savefig(f'arima/{stock_name}.png')\n",
    "    plt.close(fig)"
   ]
  },
  {
   "cell_type": "code",
   "execution_count": 19,
   "metadata": {},
   "outputs": [],
   "source": []
  }
 ],
 "metadata": {
  "kernelspec": {
   "display_name": ".venv",
   "language": "python",
   "name": "python3"
  },
  "language_info": {
   "codemirror_mode": {
    "name": "ipython",
    "version": 3
   },
   "file_extension": ".py",
   "mimetype": "text/x-python",
   "name": "python",
   "nbconvert_exporter": "python",
   "pygments_lexer": "ipython3",
   "version": "3.10.12"
  }
 },
 "nbformat": 4,
 "nbformat_minor": 2
}
