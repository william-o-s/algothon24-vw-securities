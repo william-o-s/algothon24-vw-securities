{
 "cells": [
  {
   "cell_type": "markdown",
   "metadata": {},
   "source": [
    "### Market Baseline Performance"
   ]
  },
  {
   "cell_type": "code",
   "execution_count": 1,
   "metadata": {},
   "outputs": [],
   "source": [
    "# Import required libraries\n",
    "import pandas as pd"
   ]
  },
  {
   "cell_type": "code",
   "execution_count": 2,
   "metadata": {},
   "outputs": [
    {
     "data": {
      "text/html": [
       "<div>\n",
       "<style scoped>\n",
       "    .dataframe tbody tr th:only-of-type {\n",
       "        vertical-align: middle;\n",
       "    }\n",
       "\n",
       "    .dataframe tbody tr th {\n",
       "        vertical-align: top;\n",
       "    }\n",
       "\n",
       "    .dataframe thead th {\n",
       "        text-align: right;\n",
       "    }\n",
       "</style>\n",
       "<table border=\"1\" class=\"dataframe\">\n",
       "  <thead>\n",
       "    <tr style=\"text-align: right;\">\n",
       "      <th></th>\n",
       "      <th>start</th>\n",
       "      <th>end</th>\n",
       "    </tr>\n",
       "  </thead>\n",
       "  <tbody>\n",
       "    <tr>\n",
       "      <th>stock0</th>\n",
       "      <td>13.46</td>\n",
       "      <td>13.40</td>\n",
       "    </tr>\n",
       "    <tr>\n",
       "      <th>stock1</th>\n",
       "      <td>71.65</td>\n",
       "      <td>67.33</td>\n",
       "    </tr>\n",
       "    <tr>\n",
       "      <th>stock2</th>\n",
       "      <td>48.46</td>\n",
       "      <td>46.72</td>\n",
       "    </tr>\n",
       "    <tr>\n",
       "      <th>stock3</th>\n",
       "      <td>50.52</td>\n",
       "      <td>45.73</td>\n",
       "    </tr>\n",
       "    <tr>\n",
       "      <th>stock4</th>\n",
       "      <td>52.10</td>\n",
       "      <td>52.30</td>\n",
       "    </tr>\n",
       "  </tbody>\n",
       "</table>\n",
       "</div>"
      ],
      "text/plain": [
       "        start    end\n",
       "stock0  13.46  13.40\n",
       "stock1  71.65  67.33\n",
       "stock2  48.46  46.72\n",
       "stock3  50.52  45.73\n",
       "stock4  52.10  52.30"
      ]
     },
     "execution_count": 2,
     "metadata": {},
     "output_type": "execute_result"
    }
   ],
   "source": [
    "# Import price data\n",
    "df = pd.read_csv('prices.txt', engine='python', sep='   ', header=None, names=[f\"stock{i}\" for i in range(50)])\n",
    "\n",
    "# Remove all rows except start and end, as if we bought and held all the way\n",
    "drop_rows = [i for i in range(1, 499)]\n",
    "df = df.drop(drop_rows).T\n",
    "df.rename(columns={0: \"start\", 499: \"end\"}, inplace=True)\n",
    "\n",
    "df.head()"
   ]
  },
  {
   "cell_type": "code",
   "execution_count": 3,
   "metadata": {},
   "outputs": [
    {
     "data": {
      "text/html": [
       "<div>\n",
       "<style scoped>\n",
       "    .dataframe tbody tr th:only-of-type {\n",
       "        vertical-align: middle;\n",
       "    }\n",
       "\n",
       "    .dataframe tbody tr th {\n",
       "        vertical-align: top;\n",
       "    }\n",
       "\n",
       "    .dataframe thead th {\n",
       "        text-align: right;\n",
       "    }\n",
       "</style>\n",
       "<table border=\"1\" class=\"dataframe\">\n",
       "  <thead>\n",
       "    <tr style=\"text-align: right;\">\n",
       "      <th></th>\n",
       "      <th>start</th>\n",
       "      <th>end</th>\n",
       "      <th>Profit</th>\n",
       "      <th>Returns</th>\n",
       "    </tr>\n",
       "  </thead>\n",
       "  <tbody>\n",
       "    <tr>\n",
       "      <th>stock0</th>\n",
       "      <td>13.46</td>\n",
       "      <td>13.40</td>\n",
       "      <td>-0.06</td>\n",
       "      <td>-0.004458</td>\n",
       "    </tr>\n",
       "    <tr>\n",
       "      <th>stock1</th>\n",
       "      <td>71.65</td>\n",
       "      <td>67.33</td>\n",
       "      <td>-4.32</td>\n",
       "      <td>-0.060293</td>\n",
       "    </tr>\n",
       "    <tr>\n",
       "      <th>stock2</th>\n",
       "      <td>48.46</td>\n",
       "      <td>46.72</td>\n",
       "      <td>-1.74</td>\n",
       "      <td>-0.035906</td>\n",
       "    </tr>\n",
       "    <tr>\n",
       "      <th>stock3</th>\n",
       "      <td>50.52</td>\n",
       "      <td>45.73</td>\n",
       "      <td>-4.79</td>\n",
       "      <td>-0.094814</td>\n",
       "    </tr>\n",
       "    <tr>\n",
       "      <th>stock4</th>\n",
       "      <td>52.10</td>\n",
       "      <td>52.30</td>\n",
       "      <td>0.20</td>\n",
       "      <td>0.003839</td>\n",
       "    </tr>\n",
       "  </tbody>\n",
       "</table>\n",
       "</div>"
      ],
      "text/plain": [
       "        start    end  Profit   Returns\n",
       "stock0  13.46  13.40   -0.06 -0.004458\n",
       "stock1  71.65  67.33   -4.32 -0.060293\n",
       "stock2  48.46  46.72   -1.74 -0.035906\n",
       "stock3  50.52  45.73   -4.79 -0.094814\n",
       "stock4  52.10  52.30    0.20  0.003839"
      ]
     },
     "execution_count": 3,
     "metadata": {},
     "output_type": "execute_result"
    }
   ],
   "source": [
    "df['Profit'] = df['end'] - df['start']\n",
    "df['Returns'] = (df['end'] / df['start']) - 1\n",
    "df.head()"
   ]
  },
  {
   "cell_type": "code",
   "execution_count": 4,
   "metadata": {},
   "outputs": [
    {
     "name": "stdout",
     "output_type": "stream",
     "text": [
      "===Overall market performance===\n",
      "Total Profit = $18.40\n",
      "Total Returns = -0.75%\n",
      "Average Returns = -0.02%\n",
      "Stddev of Returns = 0.18%\n"
     ]
    }
   ],
   "source": [
    "print(f\"===Overall market performance===\")\n",
    "print(f\"Total Profit = ${df['Profit'].sum():.2f}\")\n",
    "print(f\"Total Returns = {df['Returns'].sum():.2f}%\")\n",
    "print(f\"Average Returns = {df['Returns'].mean():.2f}%\")\n",
    "print(f\"Stddev of Returns = {df['Returns'].std():.2f}%\")"
   ]
  }
 ],
 "metadata": {
  "kernelspec": {
   "display_name": ".venv",
   "language": "python",
   "name": "python3"
  },
  "language_info": {
   "codemirror_mode": {
    "name": "ipython",
    "version": 3
   },
   "file_extension": ".py",
   "mimetype": "text/x-python",
   "name": "python",
   "nbconvert_exporter": "python",
   "pygments_lexer": "ipython3",
   "version": "3.10.12"
  }
 },
 "nbformat": 4,
 "nbformat_minor": 2
}
