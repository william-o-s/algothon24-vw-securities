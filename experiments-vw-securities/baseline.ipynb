{
 "cells": [
  {
   "cell_type": "markdown",
   "metadata": {},
   "source": [
    "### Market Baseline Performance"
   ]
  },
  {
   "cell_type": "code",
   "execution_count": 1,
   "metadata": {},
   "outputs": [],
   "source": [
    "# Import required libraries\n",
    "import numpy as np\n",
    "import pandas as pd"
   ]
  },
  {
   "cell_type": "markdown",
   "metadata": {},
   "source": [
    "### Buy-and-Hold Performance"
   ]
  },
  {
   "cell_type": "code",
   "execution_count": 2,
   "metadata": {},
   "outputs": [],
   "source": [
    "# Import price data\n",
    "df = pd.read_csv('prices.txt', engine='python', sep='   ', header=None, names=[f\"stock{i}\" for i in range(50)])"
   ]
  },
  {
   "cell_type": "code",
   "execution_count": 3,
   "metadata": {},
   "outputs": [
    {
     "data": {
      "text/html": [
       "<div>\n",
       "<style scoped>\n",
       "    .dataframe tbody tr th:only-of-type {\n",
       "        vertical-align: middle;\n",
       "    }\n",
       "\n",
       "    .dataframe tbody tr th {\n",
       "        vertical-align: top;\n",
       "    }\n",
       "\n",
       "    .dataframe thead th {\n",
       "        text-align: right;\n",
       "    }\n",
       "</style>\n",
       "<table border=\"1\" class=\"dataframe\">\n",
       "  <thead>\n",
       "    <tr style=\"text-align: right;\">\n",
       "      <th></th>\n",
       "      <th>start</th>\n",
       "      <th>end</th>\n",
       "    </tr>\n",
       "  </thead>\n",
       "  <tbody>\n",
       "    <tr>\n",
       "      <th>stock0</th>\n",
       "      <td>13.46</td>\n",
       "      <td>13.40</td>\n",
       "    </tr>\n",
       "    <tr>\n",
       "      <th>stock1</th>\n",
       "      <td>71.65</td>\n",
       "      <td>67.33</td>\n",
       "    </tr>\n",
       "    <tr>\n",
       "      <th>stock2</th>\n",
       "      <td>48.46</td>\n",
       "      <td>46.72</td>\n",
       "    </tr>\n",
       "    <tr>\n",
       "      <th>stock3</th>\n",
       "      <td>50.52</td>\n",
       "      <td>45.73</td>\n",
       "    </tr>\n",
       "    <tr>\n",
       "      <th>stock4</th>\n",
       "      <td>52.10</td>\n",
       "      <td>52.30</td>\n",
       "    </tr>\n",
       "  </tbody>\n",
       "</table>\n",
       "</div>"
      ],
      "text/plain": [
       "        start    end\n",
       "stock0  13.46  13.40\n",
       "stock1  71.65  67.33\n",
       "stock2  48.46  46.72\n",
       "stock3  50.52  45.73\n",
       "stock4  52.10  52.30"
      ]
     },
     "execution_count": 3,
     "metadata": {},
     "output_type": "execute_result"
    }
   ],
   "source": [
    "df_focus = df.copy()\n",
    "\n",
    "# Remove all rows except start and end, as if we bought and held all the way\n",
    "drop_rows = [i for i in range(1, 499)]\n",
    "df_focus = df_focus.drop(drop_rows).T\n",
    "df_focus.rename(columns={0: \"start\", 499: \"end\"}, inplace=True)\n",
    "\n",
    "df_focus.head()"
   ]
  },
  {
   "cell_type": "code",
   "execution_count": 6,
   "metadata": {},
   "outputs": [
    {
     "data": {
      "text/html": [
       "<div>\n",
       "<style scoped>\n",
       "    .dataframe tbody tr th:only-of-type {\n",
       "        vertical-align: middle;\n",
       "    }\n",
       "\n",
       "    .dataframe tbody tr th {\n",
       "        vertical-align: top;\n",
       "    }\n",
       "\n",
       "    .dataframe thead th {\n",
       "        text-align: right;\n",
       "    }\n",
       "</style>\n",
       "<table border=\"1\" class=\"dataframe\">\n",
       "  <thead>\n",
       "    <tr style=\"text-align: right;\">\n",
       "      <th></th>\n",
       "      <th>start</th>\n",
       "      <th>end</th>\n",
       "      <th>Profit</th>\n",
       "      <th>ROI</th>\n",
       "    </tr>\n",
       "  </thead>\n",
       "  <tbody>\n",
       "    <tr>\n",
       "      <th>stock0</th>\n",
       "      <td>13.46</td>\n",
       "      <td>13.40</td>\n",
       "      <td>-0.06</td>\n",
       "      <td>-0.004458</td>\n",
       "    </tr>\n",
       "    <tr>\n",
       "      <th>stock1</th>\n",
       "      <td>71.65</td>\n",
       "      <td>67.33</td>\n",
       "      <td>-4.32</td>\n",
       "      <td>-0.060293</td>\n",
       "    </tr>\n",
       "    <tr>\n",
       "      <th>stock2</th>\n",
       "      <td>48.46</td>\n",
       "      <td>46.72</td>\n",
       "      <td>-1.74</td>\n",
       "      <td>-0.035906</td>\n",
       "    </tr>\n",
       "    <tr>\n",
       "      <th>stock3</th>\n",
       "      <td>50.52</td>\n",
       "      <td>45.73</td>\n",
       "      <td>-4.79</td>\n",
       "      <td>-0.094814</td>\n",
       "    </tr>\n",
       "    <tr>\n",
       "      <th>stock4</th>\n",
       "      <td>52.10</td>\n",
       "      <td>52.30</td>\n",
       "      <td>0.20</td>\n",
       "      <td>0.003839</td>\n",
       "    </tr>\n",
       "  </tbody>\n",
       "</table>\n",
       "</div>"
      ],
      "text/plain": [
       "        start    end  Profit       ROI\n",
       "stock0  13.46  13.40   -0.06 -0.004458\n",
       "stock1  71.65  67.33   -4.32 -0.060293\n",
       "stock2  48.46  46.72   -1.74 -0.035906\n",
       "stock3  50.52  45.73   -4.79 -0.094814\n",
       "stock4  52.10  52.30    0.20  0.003839"
      ]
     },
     "execution_count": 6,
     "metadata": {},
     "output_type": "execute_result"
    }
   ],
   "source": [
    "df_focus['Profit'] = df_focus['end'] - df_focus['start']\n",
    "df_focus['ROI'] = (df_focus['end'] - df_focus['start']) / df_focus['start']\n",
    "df_focus.head()"
   ]
  },
  {
   "cell_type": "code",
   "execution_count": 5,
   "metadata": {},
   "outputs": [
    {
     "name": "stdout",
     "output_type": "stream",
     "text": [
      "=== Overall Buy-and-Hold Performance (1 stock each) ===\n",
      "Total Profit = $18.40\n",
      "Average Profit = $0.37\n",
      "Total Returns = 0.01%\n"
     ]
    }
   ],
   "source": [
    "total_profit = df_focus['Profit'].sum()\n",
    "average_profit = df_focus['Profit'].mean()\n",
    "total_returns = df_focus['end'].sum() / df_focus['start'].sum() - 1\n",
    "\n",
    "print(f\"=== Overall Buy-and-Hold Performance (1 stock each) ===\")\n",
    "print(f\"Total Profit = ${total_profit:.2f}\")\n",
    "print(f\"Average Profit = ${average_profit:.2f}\")\n",
    "print(f\"Total Returns = {total_returns:.2f}%\")"
   ]
  },
  {
   "cell_type": "markdown",
   "metadata": {},
   "source": [
    "### Market Portfolio Time-Series"
   ]
  },
  {
   "cell_type": "code",
   "execution_count": 26,
   "metadata": {},
   "outputs": [
    {
     "data": {
      "text/plain": [
       "<Axes: >"
      ]
     },
     "execution_count": 26,
     "metadata": {},
     "output_type": "execute_result"
    },
    {
     "data": {
      "image/png": "[encoded data removed]",
      "text/plain": [
       "<Figure size 640x480 with 1 Axes>"
      ]
     },
     "metadata": {},
     "output_type": "display_data"
    }
   ],
   "source": [
    "df_market = df.copy()\n",
    "\n",
    "# Make a new market basket column\n",
    "df_market['market'] = df.sum(axis=1)\n",
    "df_market = df_market.drop(columns=[f\"stock{i}\" for i in range(50)])\n",
    "df_market.plot()"
   ]
  },
  {
   "cell_type": "code",
   "execution_count": 27,
   "metadata": {},
   "outputs": [
    {
     "data": {
      "text/plain": [
       "0           NaN\n",
       "1      0.001368\n",
       "2      0.001462\n",
       "3      0.003276\n",
       "4      0.003144\n",
       "         ...   \n",
       "495    0.012188\n",
       "496    0.012934\n",
       "497    0.010359\n",
       "498    0.009952\n",
       "499    0.009025\n",
       "Name: daily return, Length: 500, dtype: float64"
      ]
     },
     "execution_count": 27,
     "metadata": {},
     "output_type": "execute_result"
    }
   ],
   "source": [
    "df_market['daily return'] = df_market['market'].pct_change()\n",
    "\n",
    "(1 + df_market['daily return']).cumprod() - 1\n"
   ]
  }
 ],
 "metadata": {
  "kernelspec": {
   "display_name": ".venv",
   "language": "python",
   "name": "python3"
  },
  "language_info": {
   "codemirror_mode": {
    "name": "ipython",
    "version": 3
   },
   "file_extension": ".py",
   "mimetype": "text/x-python",
   "name": "python",
   "nbconvert_exporter": "python",
   "pygments_lexer": "ipython3",
   "version": "3.10.12"
  }
 },
 "nbformat": 4,
 "nbformat_minor": 2
}
