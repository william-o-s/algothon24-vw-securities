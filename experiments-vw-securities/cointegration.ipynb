{
 "cells": [
  {
   "cell_type": "markdown",
   "metadata": {},
   "source": [
    "- [Johansen Cointegration Test: Learn How to Implement it in Python](https://blog.quantinsti.com/johansen-test-cointegration-building-stationary-portfolio/)\n",
    "- [Unveiling Cointegration: Johansen Test Explained with Python Examples](https://medium.com/@cemalozturk/unveiling-cointegration-johansen-test-explained-with-python-examples-db8385219f1f)"
   ]
  },
  {
   "cell_type": "code",
   "execution_count": 1,
   "metadata": {},
   "outputs": [],
   "source": [
    "import matplotlib.pyplot as plt\n",
    "import numpy as np\n",
    "import os\n",
    "import pandas as pd\n",
    "import random\n",
    "import statsmodels.api as sm\n",
    "\n",
    "from itertools import combinations, permutations\n",
    "from time import sleep\n",
    "from statsmodels.tsa.stattools import adfuller\n",
    "from statsmodels.tsa.vector_ar.vecm import coint_johansen"
   ]
  },
  {
   "cell_type": "code",
   "execution_count": 2,
   "metadata": {},
   "outputs": [
    {
     "name": "stdout",
     "output_type": "stream",
     "text": [
      "Index(['stock0', 'stock1', 'stock2', 'stock3', 'stock4', 'stock5', 'stock6',\n",
      "       'stock7', 'stock8', 'stock9', 'stock10', 'stock11', 'stock12',\n",
      "       'stock13', 'stock14', 'stock15', 'stock16', 'stock17', 'stock18',\n",
      "       'stock19', 'stock20', 'stock21', 'stock22', 'stock23', 'stock24',\n",
      "       'stock25', 'stock26', 'stock27', 'stock28', 'stock29', 'stock30',\n",
      "       'stock31', 'stock32', 'stock33', 'stock34', 'stock35', 'stock36',\n",
      "       'stock37', 'stock38', 'stock39', 'stock40', 'stock41', 'stock42',\n",
      "       'stock43', 'stock44', 'stock45', 'stock46', 'stock47', 'stock48',\n",
      "       'stock49'],\n",
      "      dtype='object')\n"
     ]
    },
    {
     "data": {
      "text/plain": [
       "'stock0'"
      ]
     },
     "execution_count": 2,
     "metadata": {},
     "output_type": "execute_result"
    }
   ],
   "source": [
    "# Import price data\n",
    "df = pd.read_csv('prices.txt', engine='python', sep='   ', header=None, names=[f\"stock{i}\" for i in range(50)])\n",
    "stocks = df.columns\n",
    "\n",
    "print(stocks)\n",
    "df['stock0'].name"
   ]
  },
  {
   "cell_type": "code",
   "execution_count": 3,
   "metadata": {},
   "outputs": [],
   "source": [
    "# Make plot directories\n",
    "for dirname in ['acf-pacf/', 'adfuller/']:\n",
    "    if not os.path.isdir(dirname):\n",
    "        os.makedirs(dirname)"
   ]
  },
  {
   "cell_type": "markdown",
   "metadata": {},
   "source": [
    "#### Autocorrelation + Partial Autocorrelation"
   ]
  },
  {
   "cell_type": "code",
   "execution_count": 4,
   "metadata": {},
   "outputs": [],
   "source": [
    "def acf_pacf_plot(data, lags=20):\n",
    "    fig, ax = plt.subplots(nrows=1, ncols=2, figsize=(10,5))\n",
    "    sm.graphics.tsa.plot_acf(data.values.squeeze(), ax=ax[0], lags=lags)\n",
    "    sm.graphics.tsa.plot_pacf(data.values.squeeze(), ax=ax[1], lags=lags)\n",
    "    fig.savefig(f\"acf-pacf/{data.name}.png\")\n",
    "    plt.close(fig)\n",
    "\n",
    "# Plot ACF/PACF of all stocks\n",
    "for stock in stocks:\n",
    "    acf_pacf_plot(df[stock])"
   ]
  },
  {
   "cell_type": "markdown",
   "metadata": {},
   "source": [
    "#### Augmented Dicky-Fuller Test"
   ]
  },
  {
   "cell_type": "code",
   "execution_count": 5,
   "metadata": {},
   "outputs": [],
   "source": [
    "def adf_test(data, y_str, x_str, significance=0.1, plot_threshold=90):\n",
    "    Y, X = data[y_str], data[x_str]\n",
    "\n",
    "    # Hedge ratio\n",
    "    model = sm.OLS(Y, X)\n",
    "    model = model.fit()\n",
    "    constant = model.params.iloc[0]\n",
    "\n",
    "    # Spread\n",
    "    spread = Y - constant * X\n",
    "\n",
    "    # Compute ADF test statistics\n",
    "    adf = adfuller(spread, regression='c', autolag='AIC')\n",
    "    t_stat = adf[0]\n",
    "    p_val = adf[1]\n",
    "    lag = adf[2]\n",
    "    crit_90 = adf[4]['10%']\n",
    "    crit_95 = adf[4]['5%']\n",
    "    crit_99 = adf[4]['1%']\n",
    "\n",
    "    # Check co-integration\n",
    "    if t_stat <= crit_90 and p_val <= significance:\n",
    "        confidence = 90\n",
    "    elif t_stat <= crit_95 and p_val <= significance:\n",
    "        confidence = 95\n",
    "    elif t_stat <= crit_99 and p_val <= significance:\n",
    "        confidence = 99\n",
    "    else:\n",
    "        confidence = None\n",
    "\n",
    "    # Save spread plot for reference\n",
    "    if confidence and confidence >= plot_threshold:\n",
    "        title = f\"Cointegration between y={y_str} x={x_str}:\\n{confidence}% confidence\"\n",
    "\n",
    "        fig, (ax1, ax2) = plt.subplots(1, 2)\n",
    "        # plot spread\n",
    "        ax1.plot(spread)\n",
    "        ax1.set_ylabel('Spread')\n",
    "\n",
    "        # plot historical prices\n",
    "        ax2.plot(Y, label=y_str)\n",
    "        ax2.plot(X, label=x_str)\n",
    "        ax2.set_ylabel('Price')\n",
    "        ax2.yaxis.set_label_position('right')\n",
    "        ax2.yaxis.tick_right()\n",
    "        ax2.legend(loc='lower left')\n",
    "\n",
    "        plt.suptitle(title)\n",
    "        plt.savefig(f\"adfuller/{y_str}-{x_str}\")\n",
    "        plt.close(fig)\n",
    "\n",
    "    return confidence, p_val, lag\n",
    "\n",
    "# Conduct ADF test for all stocks\n",
    "for s1, s2 in permutations(stocks, 2):\n",
    "    adf_test(df[[s1, s2]], s1, s2, significance=0.01, plot_threshold=90)\n",
    "\n",
    "y_stock = 'stock0'\n",
    "x_stock = 'stock30'\n",
    "# adf_test(df[[y_stock, x_stock]], y_stock, x_stock)"
   ]
  },
  {
   "cell_type": "markdown",
   "metadata": {},
   "source": [
    "#### Johansen Cointegration Test"
   ]
  },
  {
   "cell_type": "code",
   "execution_count": null,
   "metadata": {},
   "outputs": [],
   "source": [
    "def johansen_test(data, det_order=0, k_ar_diff=1):\n",
    "    \"\"\"Performs the Johansen cointegration test and prints the results.\n",
    "\n",
    "    Args:\n",
    "        data (np.ndarray): Time series data for cointegration test\n",
    "        det_order (int): The order of the deterministic terms. Defaults to 0.\n",
    "                         -1: (most restrictive) No constant or trend\n",
    "                          0: Constant term only\n",
    "                         -1: (least restrictive) Constant and trend terms\n",
    "        k_ar_diff (int): The number of lags to include in the VAR model. Defaults to 1.\n",
    "    \"\"\"\n",
    "\n",
    "    test_result = coint_johansen(data, det_order, k_ar_diff)\n",
    "\n",
    "    # Extract the trace statistics and eigen statistics\n",
    "    trace_stats = test_result.lr1\n",
    "    eigen_stats = test_result.lr2\n",
    "    trace_crit = test_result.cvt\n",
    "    eigen_crit = test_result.cvm\n",
    "\n",
    "    print(f'Johansen Test Results (det_order={det_order})')\n",
    "    print('Trace Statistics:', trace_stats)\n",
    "    print('Max Eigenvalue Statistics:', eigen_stats)\n",
    "    print('Critical Values (Eigenvalue):', trace_crit)\n",
    "    print('Critical Values (Trace):', eigen_crit)\n",
    "\n",
    "    return test_result\n",
    "\n",
    "johansen_test(df[['stock0', 'stock1', 'stock2', 'stock4']])"
   ]
  },
  {
   "cell_type": "markdown",
   "metadata": {},
   "source": [
    "### Testing the exact number of cointegrating relationships"
   ]
  },
  {
   "cell_type": "code",
   "execution_count": null,
   "metadata": {},
   "outputs": [],
   "source": [
    "\n",
    "\n",
    "# Interpret the results for each pair\n",
    "for i, (stock1, stock2) in enumerate(combinations(rand_stocks, 2)):\n",
    "    if (tracevalues[i] > critical_values[:, 1]).all():\n",
    "        print(f\"Pair {i + 1} ({stock1} and {stock2}) is cointegrated.\")\n",
    "    else:\n",
    "        print(f\"Pair {i + 1} ({stock1} and {stock2}) is not cointegrated.\")"
   ]
  }
 ],
 "metadata": {
  "kernelspec": {
   "display_name": ".venv",
   "language": "python",
   "name": "python3"
  },
  "language_info": {
   "codemirror_mode": {
    "name": "ipython",
    "version": 3
   },
   "file_extension": ".py",
   "mimetype": "text/x-python",
   "name": "python",
   "nbconvert_exporter": "python",
   "pygments_lexer": "ipython3",
   "version": "3.10.12"
  }
 },
 "nbformat": 4,
 "nbformat_minor": 2
}
